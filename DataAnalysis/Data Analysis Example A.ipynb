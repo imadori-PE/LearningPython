{
 "cells": [
  {
   "cell_type": "markdown",
   "metadata": {},
   "source": [
    "# Hands on !"
   ]
  },
  {
   "cell_type": "code",
   "execution_count": null,
   "metadata": {},
   "outputs": [],
   "source": [
    "import numpy as np\n",
    "import pandas as pd  \n",
    "import matplotlib.pyplot as plt\n",
    "from pathlib import Path\n",
    "\n",
    "# ? loading our data\n",
    "sales = pd.read_csv('data/sales_data.csv',parse_dates=['Date'])\n",
    "\n",
    "# ? the data a glance\n",
    "# * he head() function in pandas is used to display the first few rows of a DataFrame or Series. \n",
    "# * By default, it shows the first 5 rows, but you can specify the number of rows to display.\n",
    "sales.head(3)"
   ]
  },
  {
   "cell_type": "code",
   "execution_count": null,
   "metadata": {},
   "outputs": [],
   "source": [
    "#\n",
    "# * shape tell us how many rows an how many columns we have \n",
    "sales.shape"
   ]
  },
  {
   "cell_type": "code",
   "execution_count": null,
   "metadata": {},
   "outputs": [],
   "source": [
    "#\n",
    "# * The .info() function in pandas provides a concise summary of a DataFrame, which includes the index dtype and column dtypes, non-null values, and memory usage. \n",
    "# * This function is particularly useful for getting a quick overview of a DataFrame's structure and identifying any missing data.\n",
    "sales.info()"
   ]
  },
  {
   "cell_type": "code",
   "execution_count": null,
   "metadata": {},
   "outputs": [],
   "source": [
    "#\n",
    "# * describe() for all those numerics fields, I can have an idea of the statistical properties of those\n",
    "sales.describe()"
   ]
  },
  {
   "cell_type": "markdown",
   "metadata": {},
   "source": [
    "#  Numerical analysis and visualization\n",
    "we'll analyze Unit_cost colum"
   ]
  },
  {
   "cell_type": "code",
   "execution_count": null,
   "metadata": {},
   "outputs": [],
   "source": [
    "# \n",
    "# * describe() a column not entire data like avobe\n",
    "sales['Unit_Cost'].describe()"
   ]
  },
  {
   "cell_type": "code",
   "execution_count": null,
   "metadata": {},
   "outputs": [],
   "source": [
    "# \n",
    "# * function in pandas is used to calculate the mean (average) of the values for each column or row in a DataFrame. \n",
    "# * It works with numerical data and excludes NaN values by default.\n",
    "sales['Unit_Cost'].mean()"
   ]
  },
  {
   "cell_type": "code",
   "execution_count": null,
   "metadata": {},
   "outputs": [],
   "source": [
    "#\n",
    "# * function in pandas is used to calculate the median (the middle value) of the values for each column or row in a DataFrame. \n",
    "# * The median is a measure of central tendency that represents the middle value in a sorted list of numbers. \n",
    "# * This function excludes NaN values by default\n",
    "sales['Unit_Cost'].median()"
   ]
  },
  {
   "cell_type": "code",
   "execution_count": null,
   "metadata": {},
   "outputs": [],
   "source": [
    "# \n",
    "# * The .plot() function in pandas is used to create visualizations directly from a DataFrame or Series.\n",
    "# * kind: (str, default 'line') - The type of plot to produce: 'line', 'bar', 'barh' (horizontal bar), 'hist' (histogram), 'box', \n",
    "# * 'kde' (Kernel Density Estimate), 'density', 'area', 'pie', 'scatter', 'hexbin'.\n",
    "# * figsize: (tuple, optional) - The size of the figure (width, height).\n",
    "# * df.plot(kind='plot_type', **kwargs)\n",
    "sales['Unit_Cost'].plot(kind = 'box', vert =False, figsize=(10,5))\n",
    "# * the graph shows whiskers that mean that shows us the first and third quartil the median"
   ]
  },
  {
   "cell_type": "code",
   "execution_count": null,
   "metadata": {},
   "outputs": [],
   "source": [
    "# \n",
    "# * pip install scipy\n",
    "sales['Unit_Cost'].plot(kind = 'density', figsize=(14,6))\n",
    "plt.title('Density graph for Unit_Cost')\n",
    "plt.xlabel('Unit_Cost')"
   ]
  },
  {
   "cell_type": "code",
   "execution_count": null,
   "metadata": {},
   "outputs": [],
   "source": [
    "# * distribution chart\n",
    "ax = sales['Unit_Cost'].plot(kind = 'density', figsize=(14,6))\n",
    "ax.axvline(sales['Unit_Cost'].mean(),color='red')\n",
    "ax.axvline(sales['Unit_Cost'].median(),color='green')"
   ]
  },
  {
   "cell_type": "code",
   "execution_count": null,
   "metadata": {},
   "outputs": [],
   "source": [
    "sales['Unit_Cost'].plot(kind='hist', bins=20, figsize=(14,6))"
   ]
  },
  {
   "cell_type": "code",
   "execution_count": null,
   "metadata": {},
   "outputs": [],
   "source": [
    "#\n",
    "# * histogram of the costs of our products\n",
    "ax = sales['Unit_Cost'].plot(kind = 'hist', figsize=(14,6))\n",
    "ax.set_ylabel('Number of sales')\n",
    "ax.set_xlabel('dollars')"
   ]
  },
  {
   "cell_type": "markdown",
   "metadata": {},
   "source": [
    "# Categorical analysis and visualization\n",
    "We'll analyze the Age_Group column"
   ]
  },
  {
   "cell_type": "code",
   "execution_count": null,
   "metadata": {},
   "outputs": [],
   "source": [
    "# \n",
    "# * function in pandas is used to count the unique values in a Series (or a DataFrame column) and return a Series containing counts of unique values in descending order. \n",
    "# * This is useful for understanding the distribution of categorical data and quickly identifying the most or least common values.\n",
    "sales['Age_Group'].value_counts()"
   ]
  },
  {
   "cell_type": "code",
   "execution_count": null,
   "metadata": {},
   "outputs": [],
   "source": [
    "sales['Age_Group'].value_counts().plot(kind = 'pie', figsize=(6,6))"
   ]
  },
  {
   "cell_type": "code",
   "execution_count": null,
   "metadata": {},
   "outputs": [],
   "source": [
    "ax = sales['Age_Group'].value_counts().plot(kind = 'bar', figsize=(14,6))\n",
    "ax.set_ylabel('Number of sales')"
   ]
  },
  {
   "cell_type": "markdown",
   "metadata": {},
   "source": [
    "# Relationship between the columns ?\n",
    "Can we find any significant relationship ?"
   ]
  },
  {
   "cell_type": "code",
   "execution_count": null,
   "metadata": {},
   "outputs": [],
   "source": [
    "# \n",
    "# * The .corr() function in pandas computes the pairwise correlation of columns in a DataFrame, excluding NaN values. \n",
    "# * Correlation measures the strength and direction of a linear relationship between two variables. \n",
    "# * The resulting output is a DataFrame that represents the correlation matrix.\n",
    "# * DataFrame.corr(method='pearson', min_periods=1, numeric_only=_NoDefault.no_default)\n",
    "corr = sales.corr(numeric_only=True)\n",
    "corr"
   ]
  },
  {
   "cell_type": "code",
   "execution_count": null,
   "metadata": {},
   "outputs": [],
   "source": [
    "#\n",
    "# * matrix  correlation\n",
    "fig = plt.figure(figsize=(8,8))\n",
    "plt.matshow(corr,cmap='RdBu', fignum=fig.number)\n",
    "plt.xticks(range(len(corr.columns)),corr.columns, rotation='vertical')\n",
    "plt.yticks(range(len(corr.columns)),corr.columns)"
   ]
  },
  {
   "cell_type": "code",
   "execution_count": null,
   "metadata": {},
   "outputs": [],
   "source": [
    "sales.plot(kind='scatter', x='Customer_Age', y='Revenue', figsize=(6,6))"
   ]
  },
  {
   "cell_type": "code",
   "execution_count": null,
   "metadata": {},
   "outputs": [],
   "source": [
    "sales.plot(kind='scatter', x='Revenue', y='Profit', figsize=(6,6))"
   ]
  },
  {
   "cell_type": "code",
   "execution_count": null,
   "metadata": {},
   "outputs": [],
   "source": [
    "ax = sales[['Profit','Age_Group']].boxplot(by='Age_Group', figsize=(6,6))\n",
    "ax.set_xlabel('Profit')"
   ]
  },
  {
   "cell_type": "code",
   "execution_count": null,
   "metadata": {},
   "outputs": [],
   "source": [
    "# \n",
    "boxplot_cols = ['Year','Customer_Age','Order_Quantity','Unit_Cost','Unit_Price','Profit']\n",
    "sales[boxplot_cols].plot(kind='box', subplots=True, layout=(2,3), figsize=(14,8))"
   ]
  }
 ],
 "metadata": {
  "kernelspec": {
   "display_name": "Python 3",
   "language": "python",
   "name": "python3"
  },
  "language_info": {
   "codemirror_mode": {
    "name": "ipython",
    "version": 3
   },
   "file_extension": ".py",
   "mimetype": "text/x-python",
   "name": "python",
   "nbconvert_exporter": "python",
   "pygments_lexer": "ipython3",
   "version": "3.12.4"
  }
 },
 "nbformat": 4,
 "nbformat_minor": 2
}
