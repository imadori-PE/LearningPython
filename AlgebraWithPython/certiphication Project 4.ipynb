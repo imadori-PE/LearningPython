{
 "cells": [
  {
   "cell_type": "code",
   "execution_count": 2,
   "metadata": {},
   "outputs": [],
   "source": [
    "#Build a financial app that does all of the following:\n",
    "\n",
    "#Calculate annuity with monthly or continuous growth\n",
    "#Calculate monthly mortgage payment\n",
    "#Estimate retirement investment balance\n",
    "#Determine how long until an amount doubles, given the rate\n",
    "#Solve logarithmic equations\n",
    "#Convert to (and from) scientific notation\n",
    "\n",
    "while True:\n",
    "  print('[1] Calculate annuity with monthly or continuous growth')\n",
    "  print('[2] Calculate monthly mortgage payment')\n",
    "  print('[3] Estimate retirement investment balance')\n",
    "  print('[4] Determine how long until an amount doubles, given the rate')\n",
    "  print('[5] Solve logarithmic equations')\n",
    "  print('[6] Convert to (and from) scientific notation')\n",
    "  x=int(input('Choose an option [1-6]: '))\n",
    "  print('------------------------------------------------------------------------')\n",
    "  if x==1:\n",
    "    graph_functions()\n",
    "  elif x==2:\n",
    "      table_values()\n",
    "  elif x==3:\n",
    "      shade_above_below()\n",
    "  elif x==4:\n",
    "      solve_graph_two_equations()\n",
    "  elif x==5:\n",
    "      zoom_in_or_out_graph()\n",
    "  elif x==6:\n",
    "      solve_quadratic_abc()\n",
    "  else:\n",
    "      print('No option was selected')\n",
    "      break"
   ]
  }
 ],
 "metadata": {
  "kernelspec": {
   "display_name": "Python 3",
   "language": "python",
   "name": "python3"
  },
  "language_info": {
   "codemirror_mode": {
    "name": "ipython",
    "version": 3
   },
   "file_extension": ".py",
   "mimetype": "text/x-python",
   "name": "python",
   "nbconvert_exporter": "python",
   "pygments_lexer": "ipython3",
   "version": "3.12.4"
  }
 },
 "nbformat": 4,
 "nbformat_minor": 2
}
