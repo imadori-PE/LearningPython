{
 "cells": [
  {
   "cell_type": "code",
   "execution_count": 6,
   "metadata": {},
   "outputs": [
    {
     "data": {
      "application/vnd.jupyter.widget-view+json": {
       "model_id": "28f0423a6fc54bd1900b43ff2fbe50bc",
       "version_major": 2,
       "version_minor": 0
      },
      "text/plain": [
       "interactive(children=(IntSlider(value=0, description='m', max=10, min=-10), IntSlider(value=0, description='b'…"
      ]
     },
     "execution_count": 6,
     "metadata": {},
     "output_type": "execute_result"
    }
   ],
   "source": [
    "%matplotlib inline\n",
    "from ipywidgets import interactive\n",
    "# ? pip install ipywidgets\n",
    "import matplotlib.pyplot as plt\n",
    "import numpy as np\n",
    "\n",
    "\n",
    "# * Define the graphing function\n",
    "def f(m, b, zoom):\n",
    "    xmin = -zoom\n",
    "    xmax = zoom\n",
    "    ymin = -zoom\n",
    "    ymax = zoom\n",
    "    points = 10*xmax-xmin\n",
    "    x = np.linspace(xmin, xmax, points, endpoint=False)\n",
    "    print(x)\n",
    "    plt.axis([xmin,xmax,ymin,ymax]) # window size\n",
    "    plt.plot([xmin,xmax],[0,0],'black') # black x axis\n",
    "    plt.plot([0,0],[ymin,ymax], 'black') # black y axis\n",
    "\n",
    "    # Line 1\n",
    "    y1 = 3*x**2 - 4\n",
    "\n",
    "    # Line 2\n",
    "    plt.plot(x, y1)\n",
    "    plt.show()\n",
    "    # plt.fill_between(x, y3, y2, facecolor='blue')\n",
    "\n",
    "# Set up the sliders\n",
    "interactive_plot = interactive(f, m=(-10, 10), b=(-10, 10), zoom=(1,100))\n",
    "interactive_plot\n",
    "\n",
    "#The interactive() function in Python is not a native function of the language, but is commonly used in the context of the ipywidgets library. \n",
    "#This function allows you to create interactive widgets in Jupyter Notebooks, where you can change parameters and watch the output change in real time.\n",
    "\n",
    "#Explanation:\n",
    "#from ipywidgets import interactive: Imports the interactive function from the ipywidgets library.\n",
    "#f: Defines a function \n",
    "#interactive_plot = interactive(plot_function, a=(-10, 10, 1), b=(-10, 10, 1)): \n",
    "#Creates an interactive widget that allows you to modify the values ​​of a and b within the range of -10 to 10 with steps of 1.\n",
    "#interactive_plot: Displays the interactive widget in the notebook. \n"
   ]
  },
  {
   "cell_type": "code",
   "execution_count": null,
   "metadata": {},
   "outputs": [],
   "source": []
  }
 ],
 "metadata": {
  "kernelspec": {
   "display_name": "Python 3",
   "language": "python",
   "name": "python3"
  },
  "language_info": {
   "codemirror_mode": {
    "name": "ipython",
    "version": 3
   },
   "file_extension": ".py",
   "mimetype": "text/x-python",
   "name": "python",
   "nbconvert_exporter": "python",
   "pygments_lexer": "ipython3",
   "version": "3.12.4"
  }
 },
 "nbformat": 4,
 "nbformat_minor": 2
}
