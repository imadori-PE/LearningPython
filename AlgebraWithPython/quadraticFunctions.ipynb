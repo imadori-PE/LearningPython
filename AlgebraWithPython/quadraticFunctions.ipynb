{
 "cells": [
  {
   "cell_type": "code",
   "execution_count": null,
   "metadata": {},
   "outputs": [],
   "source": [
    "import matplotlib.pyplot as plt\n",
    "import numpy as np\n",
    "import time\n",
    "from IPython import display\n",
    "\n",
    "x = np.linspace(-4,4,16)\n",
    "fig, ax = plt.subplots()\n",
    "cvalue = \"c = \"\n",
    "\n",
    "for c in range(10):\n",
    "    y = -x**2+c\n",
    "    plt.plot(x,y)\n",
    "    cvalue = \"c = \", c\n",
    "    ax.set_title(cvalue)\n",
    "    display.display(plt.gcf())\n",
    "    time.sleep(0.5)\n",
    "    display.clear_output(wait=True)\n",
    "    \n",
    "# Like many other functions, the c value (also called the \"constant\" because it is not a variable) affects the vertical shift of the graph. \n",
    "# Run the following code to see how changing the c value changes the graph."
   ]
  },
  {
   "cell_type": "code",
   "execution_count": null,
   "metadata": {},
   "outputs": [],
   "source": []
  }
 ],
 "metadata": {
  "kernelspec": {
   "display_name": "Python 3",
   "language": "python",
   "name": "python3"
  },
  "language_info": {
   "codemirror_mode": {
    "name": "ipython",
    "version": 3
   },
   "file_extension": ".py",
   "mimetype": "text/x-python",
   "name": "python",
   "nbconvert_exporter": "python",
   "pygments_lexer": "ipython3",
   "version": "3.12.4"
  }
 },
 "nbformat": 4,
 "nbformat_minor": 2
}
